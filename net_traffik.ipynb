{
 "cells": [
  {
   "cell_type": "code",
   "execution_count": 51,
   "outputs": [],
   "source": [
    "import pandas as pd\n",
    "import numpy as np"
   ],
   "metadata": {
    "collapsed": false,
    "pycharm": {
     "name": "#%%\n"
    }
   }
  },
  {
   "cell_type": "code",
   "execution_count": 3,
   "outputs": [],
   "source": [
    "FEATURES_FILE = 'data/NUSW-NB15_features.csv'\n",
    "TRAIN_FILE = 'data/UNSW_NB15_training-set.csv'\n",
    "TEST_FILE = 'data/UNSW_NB15_training-set.csv'"
   ],
   "metadata": {
    "collapsed": false,
    "pycharm": {
     "name": "#%%\n"
    }
   }
  },
  {
   "cell_type": "code",
   "execution_count": 42,
   "outputs": [],
   "source": [
    "df_train = pd.read_csv(TRAIN_FILE)\n",
    "df_test = pd.read_csv(TEST_FILE)\n",
    "df_feature = pd.read_csv(FEATURES_FILE)"
   ],
   "metadata": {
    "collapsed": false,
    "pycharm": {
     "name": "#%%\n"
    }
   }
  },
  {
   "cell_type": "code",
   "execution_count": 43,
   "outputs": [
    {
     "data": {
      "text/plain": "   id       dur proto service state  spkts  dpkts  sbytes  dbytes  \\\n0   1  0.000011   udp       -   INT      2      0     496       0   \n1   2  0.000008   udp       -   INT      2      0    1762       0   \n2   3  0.000005   udp       -   INT      2      0    1068       0   \n3   4  0.000006   udp       -   INT      2      0     900       0   \n4   5  0.000010   udp       -   INT      2      0    2126       0   \n\n          rate  ...  ct_dst_sport_ltm  ct_dst_src_ltm  is_ftp_login  \\\n0   90909.0902  ...                 1               2             0   \n1  125000.0003  ...                 1               2             0   \n2  200000.0051  ...                 1               3             0   \n3  166666.6608  ...                 1               3             0   \n4  100000.0025  ...                 1               3             0   \n\n   ct_ftp_cmd  ct_flw_http_mthd  ct_src_ltm  ct_srv_dst  is_sm_ips_ports  \\\n0           0                 0           1           2                0   \n1           0                 0           1           2                0   \n2           0                 0           1           3                0   \n3           0                 0           2           3                0   \n4           0                 0           2           3                0   \n\n   attack_cat  label  \n0      Normal      0  \n1      Normal      0  \n2      Normal      0  \n3      Normal      0  \n4      Normal      0  \n\n[5 rows x 45 columns]",
      "text/html": "<div>\n<style scoped>\n    .dataframe tbody tr th:only-of-type {\n        vertical-align: middle;\n    }\n\n    .dataframe tbody tr th {\n        vertical-align: top;\n    }\n\n    .dataframe thead th {\n        text-align: right;\n    }\n</style>\n<table border=\"1\" class=\"dataframe\">\n  <thead>\n    <tr style=\"text-align: right;\">\n      <th></th>\n      <th>id</th>\n      <th>dur</th>\n      <th>proto</th>\n      <th>service</th>\n      <th>state</th>\n      <th>spkts</th>\n      <th>dpkts</th>\n      <th>sbytes</th>\n      <th>dbytes</th>\n      <th>rate</th>\n      <th>...</th>\n      <th>ct_dst_sport_ltm</th>\n      <th>ct_dst_src_ltm</th>\n      <th>is_ftp_login</th>\n      <th>ct_ftp_cmd</th>\n      <th>ct_flw_http_mthd</th>\n      <th>ct_src_ltm</th>\n      <th>ct_srv_dst</th>\n      <th>is_sm_ips_ports</th>\n      <th>attack_cat</th>\n      <th>label</th>\n    </tr>\n  </thead>\n  <tbody>\n    <tr>\n      <th>0</th>\n      <td>1</td>\n      <td>0.000011</td>\n      <td>udp</td>\n      <td>-</td>\n      <td>INT</td>\n      <td>2</td>\n      <td>0</td>\n      <td>496</td>\n      <td>0</td>\n      <td>90909.0902</td>\n      <td>...</td>\n      <td>1</td>\n      <td>2</td>\n      <td>0</td>\n      <td>0</td>\n      <td>0</td>\n      <td>1</td>\n      <td>2</td>\n      <td>0</td>\n      <td>Normal</td>\n      <td>0</td>\n    </tr>\n    <tr>\n      <th>1</th>\n      <td>2</td>\n      <td>0.000008</td>\n      <td>udp</td>\n      <td>-</td>\n      <td>INT</td>\n      <td>2</td>\n      <td>0</td>\n      <td>1762</td>\n      <td>0</td>\n      <td>125000.0003</td>\n      <td>...</td>\n      <td>1</td>\n      <td>2</td>\n      <td>0</td>\n      <td>0</td>\n      <td>0</td>\n      <td>1</td>\n      <td>2</td>\n      <td>0</td>\n      <td>Normal</td>\n      <td>0</td>\n    </tr>\n    <tr>\n      <th>2</th>\n      <td>3</td>\n      <td>0.000005</td>\n      <td>udp</td>\n      <td>-</td>\n      <td>INT</td>\n      <td>2</td>\n      <td>0</td>\n      <td>1068</td>\n      <td>0</td>\n      <td>200000.0051</td>\n      <td>...</td>\n      <td>1</td>\n      <td>3</td>\n      <td>0</td>\n      <td>0</td>\n      <td>0</td>\n      <td>1</td>\n      <td>3</td>\n      <td>0</td>\n      <td>Normal</td>\n      <td>0</td>\n    </tr>\n    <tr>\n      <th>3</th>\n      <td>4</td>\n      <td>0.000006</td>\n      <td>udp</td>\n      <td>-</td>\n      <td>INT</td>\n      <td>2</td>\n      <td>0</td>\n      <td>900</td>\n      <td>0</td>\n      <td>166666.6608</td>\n      <td>...</td>\n      <td>1</td>\n      <td>3</td>\n      <td>0</td>\n      <td>0</td>\n      <td>0</td>\n      <td>2</td>\n      <td>3</td>\n      <td>0</td>\n      <td>Normal</td>\n      <td>0</td>\n    </tr>\n    <tr>\n      <th>4</th>\n      <td>5</td>\n      <td>0.000010</td>\n      <td>udp</td>\n      <td>-</td>\n      <td>INT</td>\n      <td>2</td>\n      <td>0</td>\n      <td>2126</td>\n      <td>0</td>\n      <td>100000.0025</td>\n      <td>...</td>\n      <td>1</td>\n      <td>3</td>\n      <td>0</td>\n      <td>0</td>\n      <td>0</td>\n      <td>2</td>\n      <td>3</td>\n      <td>0</td>\n      <td>Normal</td>\n      <td>0</td>\n    </tr>\n  </tbody>\n</table>\n<p>5 rows × 45 columns</p>\n</div>"
     },
     "execution_count": 43,
     "metadata": {},
     "output_type": "execute_result"
    }
   ],
   "source": [
    "df_train.head()"
   ],
   "metadata": {
    "collapsed": false,
    "pycharm": {
     "name": "#%%\n"
    }
   }
  },
  {
   "cell_type": "code",
   "execution_count": 44,
   "outputs": [
    {
     "name": "stdout",
     "output_type": "stream",
     "text": [
      "<class 'pandas.core.frame.DataFrame'>\n",
      "RangeIndex: 82332 entries, 0 to 82331\n",
      "Data columns (total 45 columns):\n",
      " #   Column             Non-Null Count  Dtype  \n",
      "---  ------             --------------  -----  \n",
      " 0   id                 82332 non-null  int64  \n",
      " 1   dur                82332 non-null  float64\n",
      " 2   proto              82332 non-null  object \n",
      " 3   service            82332 non-null  object \n",
      " 4   state              82332 non-null  object \n",
      " 5   spkts              82332 non-null  int64  \n",
      " 6   dpkts              82332 non-null  int64  \n",
      " 7   sbytes             82332 non-null  int64  \n",
      " 8   dbytes             82332 non-null  int64  \n",
      " 9   rate               82332 non-null  float64\n",
      " 10  sttl               82332 non-null  int64  \n",
      " 11  dttl               82332 non-null  int64  \n",
      " 12  sload              82332 non-null  float64\n",
      " 13  dload              82332 non-null  float64\n",
      " 14  sloss              82332 non-null  int64  \n",
      " 15  dloss              82332 non-null  int64  \n",
      " 16  sinpkt             82332 non-null  float64\n",
      " 17  dinpkt             82332 non-null  float64\n",
      " 18  sjit               82332 non-null  float64\n",
      " 19  djit               82332 non-null  float64\n",
      " 20  swin               82332 non-null  int64  \n",
      " 21  stcpb              82332 non-null  int64  \n",
      " 22  dtcpb              82332 non-null  int64  \n",
      " 23  dwin               82332 non-null  int64  \n",
      " 24  tcprtt             82332 non-null  float64\n",
      " 25  synack             82332 non-null  float64\n",
      " 26  ackdat             82332 non-null  float64\n",
      " 27  smean              82332 non-null  int64  \n",
      " 28  dmean              82332 non-null  int64  \n",
      " 29  trans_depth        82332 non-null  int64  \n",
      " 30  response_body_len  82332 non-null  int64  \n",
      " 31  ct_srv_src         82332 non-null  int64  \n",
      " 32  ct_state_ttl       82332 non-null  int64  \n",
      " 33  ct_dst_ltm         82332 non-null  int64  \n",
      " 34  ct_src_dport_ltm   82332 non-null  int64  \n",
      " 35  ct_dst_sport_ltm   82332 non-null  int64  \n",
      " 36  ct_dst_src_ltm     82332 non-null  int64  \n",
      " 37  is_ftp_login       82332 non-null  int64  \n",
      " 38  ct_ftp_cmd         82332 non-null  int64  \n",
      " 39  ct_flw_http_mthd   82332 non-null  int64  \n",
      " 40  ct_src_ltm         82332 non-null  int64  \n",
      " 41  ct_srv_dst         82332 non-null  int64  \n",
      " 42  is_sm_ips_ports    82332 non-null  int64  \n",
      " 43  attack_cat         82332 non-null  object \n",
      " 44  label              82332 non-null  int64  \n",
      "dtypes: float64(11), int64(30), object(4)\n",
      "memory usage: 28.3+ MB\n"
     ]
    }
   ],
   "source": [
    "df_train.info()"
   ],
   "metadata": {
    "collapsed": false,
    "pycharm": {
     "name": "#%%\n"
    }
   }
  },
  {
   "cell_type": "code",
   "execution_count": 46,
   "outputs": [
    {
     "data": {
      "text/plain": "    No.               Name      Type   \\\n0     1              srcip    nominal   \n1     2              sport    integer   \n2     3              dstip    nominal   \n3     4             dsport    integer   \n4     5              proto    nominal   \n5     6              state    nominal   \n6     7                dur      Float   \n7     8             sbytes    Integer   \n8     9             dbytes    Integer   \n9    10               sttl    Integer   \n10   11               dttl    Integer   \n11   12              sloss    Integer   \n12   13              dloss    Integer   \n13   14            service    nominal   \n14   15              Sload      Float   \n15   16              Dload      Float   \n16   17              Spkts    integer   \n17   18              Dpkts    integer   \n18   19               swin    integer   \n19   20               dwin    integer   \n20   21              stcpb    integer   \n21   22              dtcpb    integer   \n22   23              smean    integer   \n23   24              dmean    integer   \n24   25        trans_depth    integer   \n25   26  response_body_len    integer   \n26   27               Sjit      Float   \n27   28               Djit      Float   \n28   29              Stime  Timestamp   \n29   30              Ltime  Timestamp   \n30   31             Sinpkt      Float   \n31   32             Dinpkt      Float   \n32   33             tcprtt      Float   \n33   34             synack      Float   \n34   35             ackdat      Float   \n35   36    is_sm_ips_ports     Binary   \n36   37       ct_state_ttl    Integer   \n37   38   ct_flw_http_mthd    Integer   \n38   39       is_ftp_login     Binary   \n39   40         ct_ftp_cmd    integer   \n40   41         ct_srv_src    integer   \n41   42         ct_srv_dst    integer   \n42   43         ct_dst_ltm    integer   \n43   44         ct_src_ltm    integer   \n44   45   ct_src_dport_ltm    integer   \n45   46   ct_dst_sport_ltm    integer   \n46   47     ct_dst_src_ltm    integer   \n47   48         attack_cat    nominal   \n48   49              Label     binary   \n\n                                          Description  \n0                                   Source IP address  \n1                                  Source port number  \n2                              Destination IP address  \n3                             Destination port number  \n4                                Transaction protocol  \n5   Indicates to the state and its dependent proto...  \n6                               Record total duration  \n7            Source to destination transaction bytes   \n8             Destination to source transaction bytes  \n9           Source to destination time to live value   \n10           Destination to source time to live value  \n11           Source packets retransmitted or dropped   \n12       Destination packets retransmitted or dropped  \n13  http, ftp, smtp, ssh, dns, ftp-data ,irc  and ...  \n14                             Source bits per second  \n15                        Destination bits per second  \n16                Source to destination packet count   \n17                 Destination to source packet count  \n18              Source TCP window advertisement value  \n19         Destination TCP window advertisement value  \n20                    Source TCP base sequence number  \n21               Destination TCP base sequence number  \n22  Mean of the ?ow packet size transmitted by the...  \n23  Mean of the ?ow packet size transmitted by the...  \n24  Represents the pipelined depth into the connec...  \n25  Actual uncompressed content size of the data t...  \n26                               Source jitter (mSec)  \n27                          Destination jitter (mSec)  \n28                                  record start time  \n29                                   record last time  \n30             Source interpacket arrival time (mSec)  \n31        Destination interpacket arrival time (mSec)  \n32  TCP connection setup round-trip time, the sum ...  \n33  TCP connection setup time, the time between th...  \n34  TCP connection setup time, the time between th...  \n35  If source (1) and destination (3)IP addresses ...  \n36  No. for each state (6) according to specific r...  \n37  No. of flows that has methods such as Get and ...  \n38  If the ftp session is accessed by user and pas...  \n39     No of flows that has a command in ftp session.  \n40  No. of connections that contain the same servi...  \n41  No. of connections that contain the same servi...  \n42  No. of connections of the same destination add...  \n43  No. of connections of the same source address ...  \n44  No of connections of the same source address (...  \n45  No of connections of the same destination addr...  \n46  No of connections of the same source (1) and t...  \n47  The name of each attack category. In this data...  \n48              0 for normal and 1 for attack records  ",
      "text/html": "<div>\n<style scoped>\n    .dataframe tbody tr th:only-of-type {\n        vertical-align: middle;\n    }\n\n    .dataframe tbody tr th {\n        vertical-align: top;\n    }\n\n    .dataframe thead th {\n        text-align: right;\n    }\n</style>\n<table border=\"1\" class=\"dataframe\">\n  <thead>\n    <tr style=\"text-align: right;\">\n      <th></th>\n      <th>No.</th>\n      <th>Name</th>\n      <th>Type</th>\n      <th>Description</th>\n    </tr>\n  </thead>\n  <tbody>\n    <tr>\n      <th>0</th>\n      <td>1</td>\n      <td>srcip</td>\n      <td>nominal</td>\n      <td>Source IP address</td>\n    </tr>\n    <tr>\n      <th>1</th>\n      <td>2</td>\n      <td>sport</td>\n      <td>integer</td>\n      <td>Source port number</td>\n    </tr>\n    <tr>\n      <th>2</th>\n      <td>3</td>\n      <td>dstip</td>\n      <td>nominal</td>\n      <td>Destination IP address</td>\n    </tr>\n    <tr>\n      <th>3</th>\n      <td>4</td>\n      <td>dsport</td>\n      <td>integer</td>\n      <td>Destination port number</td>\n    </tr>\n    <tr>\n      <th>4</th>\n      <td>5</td>\n      <td>proto</td>\n      <td>nominal</td>\n      <td>Transaction protocol</td>\n    </tr>\n    <tr>\n      <th>5</th>\n      <td>6</td>\n      <td>state</td>\n      <td>nominal</td>\n      <td>Indicates to the state and its dependent proto...</td>\n    </tr>\n    <tr>\n      <th>6</th>\n      <td>7</td>\n      <td>dur</td>\n      <td>Float</td>\n      <td>Record total duration</td>\n    </tr>\n    <tr>\n      <th>7</th>\n      <td>8</td>\n      <td>sbytes</td>\n      <td>Integer</td>\n      <td>Source to destination transaction bytes</td>\n    </tr>\n    <tr>\n      <th>8</th>\n      <td>9</td>\n      <td>dbytes</td>\n      <td>Integer</td>\n      <td>Destination to source transaction bytes</td>\n    </tr>\n    <tr>\n      <th>9</th>\n      <td>10</td>\n      <td>sttl</td>\n      <td>Integer</td>\n      <td>Source to destination time to live value</td>\n    </tr>\n    <tr>\n      <th>10</th>\n      <td>11</td>\n      <td>dttl</td>\n      <td>Integer</td>\n      <td>Destination to source time to live value</td>\n    </tr>\n    <tr>\n      <th>11</th>\n      <td>12</td>\n      <td>sloss</td>\n      <td>Integer</td>\n      <td>Source packets retransmitted or dropped</td>\n    </tr>\n    <tr>\n      <th>12</th>\n      <td>13</td>\n      <td>dloss</td>\n      <td>Integer</td>\n      <td>Destination packets retransmitted or dropped</td>\n    </tr>\n    <tr>\n      <th>13</th>\n      <td>14</td>\n      <td>service</td>\n      <td>nominal</td>\n      <td>http, ftp, smtp, ssh, dns, ftp-data ,irc  and ...</td>\n    </tr>\n    <tr>\n      <th>14</th>\n      <td>15</td>\n      <td>Sload</td>\n      <td>Float</td>\n      <td>Source bits per second</td>\n    </tr>\n    <tr>\n      <th>15</th>\n      <td>16</td>\n      <td>Dload</td>\n      <td>Float</td>\n      <td>Destination bits per second</td>\n    </tr>\n    <tr>\n      <th>16</th>\n      <td>17</td>\n      <td>Spkts</td>\n      <td>integer</td>\n      <td>Source to destination packet count</td>\n    </tr>\n    <tr>\n      <th>17</th>\n      <td>18</td>\n      <td>Dpkts</td>\n      <td>integer</td>\n      <td>Destination to source packet count</td>\n    </tr>\n    <tr>\n      <th>18</th>\n      <td>19</td>\n      <td>swin</td>\n      <td>integer</td>\n      <td>Source TCP window advertisement value</td>\n    </tr>\n    <tr>\n      <th>19</th>\n      <td>20</td>\n      <td>dwin</td>\n      <td>integer</td>\n      <td>Destination TCP window advertisement value</td>\n    </tr>\n    <tr>\n      <th>20</th>\n      <td>21</td>\n      <td>stcpb</td>\n      <td>integer</td>\n      <td>Source TCP base sequence number</td>\n    </tr>\n    <tr>\n      <th>21</th>\n      <td>22</td>\n      <td>dtcpb</td>\n      <td>integer</td>\n      <td>Destination TCP base sequence number</td>\n    </tr>\n    <tr>\n      <th>22</th>\n      <td>23</td>\n      <td>smean</td>\n      <td>integer</td>\n      <td>Mean of the ?ow packet size transmitted by the...</td>\n    </tr>\n    <tr>\n      <th>23</th>\n      <td>24</td>\n      <td>dmean</td>\n      <td>integer</td>\n      <td>Mean of the ?ow packet size transmitted by the...</td>\n    </tr>\n    <tr>\n      <th>24</th>\n      <td>25</td>\n      <td>trans_depth</td>\n      <td>integer</td>\n      <td>Represents the pipelined depth into the connec...</td>\n    </tr>\n    <tr>\n      <th>25</th>\n      <td>26</td>\n      <td>response_body_len</td>\n      <td>integer</td>\n      <td>Actual uncompressed content size of the data t...</td>\n    </tr>\n    <tr>\n      <th>26</th>\n      <td>27</td>\n      <td>Sjit</td>\n      <td>Float</td>\n      <td>Source jitter (mSec)</td>\n    </tr>\n    <tr>\n      <th>27</th>\n      <td>28</td>\n      <td>Djit</td>\n      <td>Float</td>\n      <td>Destination jitter (mSec)</td>\n    </tr>\n    <tr>\n      <th>28</th>\n      <td>29</td>\n      <td>Stime</td>\n      <td>Timestamp</td>\n      <td>record start time</td>\n    </tr>\n    <tr>\n      <th>29</th>\n      <td>30</td>\n      <td>Ltime</td>\n      <td>Timestamp</td>\n      <td>record last time</td>\n    </tr>\n    <tr>\n      <th>30</th>\n      <td>31</td>\n      <td>Sinpkt</td>\n      <td>Float</td>\n      <td>Source interpacket arrival time (mSec)</td>\n    </tr>\n    <tr>\n      <th>31</th>\n      <td>32</td>\n      <td>Dinpkt</td>\n      <td>Float</td>\n      <td>Destination interpacket arrival time (mSec)</td>\n    </tr>\n    <tr>\n      <th>32</th>\n      <td>33</td>\n      <td>tcprtt</td>\n      <td>Float</td>\n      <td>TCP connection setup round-trip time, the sum ...</td>\n    </tr>\n    <tr>\n      <th>33</th>\n      <td>34</td>\n      <td>synack</td>\n      <td>Float</td>\n      <td>TCP connection setup time, the time between th...</td>\n    </tr>\n    <tr>\n      <th>34</th>\n      <td>35</td>\n      <td>ackdat</td>\n      <td>Float</td>\n      <td>TCP connection setup time, the time between th...</td>\n    </tr>\n    <tr>\n      <th>35</th>\n      <td>36</td>\n      <td>is_sm_ips_ports</td>\n      <td>Binary</td>\n      <td>If source (1) and destination (3)IP addresses ...</td>\n    </tr>\n    <tr>\n      <th>36</th>\n      <td>37</td>\n      <td>ct_state_ttl</td>\n      <td>Integer</td>\n      <td>No. for each state (6) according to specific r...</td>\n    </tr>\n    <tr>\n      <th>37</th>\n      <td>38</td>\n      <td>ct_flw_http_mthd</td>\n      <td>Integer</td>\n      <td>No. of flows that has methods such as Get and ...</td>\n    </tr>\n    <tr>\n      <th>38</th>\n      <td>39</td>\n      <td>is_ftp_login</td>\n      <td>Binary</td>\n      <td>If the ftp session is accessed by user and pas...</td>\n    </tr>\n    <tr>\n      <th>39</th>\n      <td>40</td>\n      <td>ct_ftp_cmd</td>\n      <td>integer</td>\n      <td>No of flows that has a command in ftp session.</td>\n    </tr>\n    <tr>\n      <th>40</th>\n      <td>41</td>\n      <td>ct_srv_src</td>\n      <td>integer</td>\n      <td>No. of connections that contain the same servi...</td>\n    </tr>\n    <tr>\n      <th>41</th>\n      <td>42</td>\n      <td>ct_srv_dst</td>\n      <td>integer</td>\n      <td>No. of connections that contain the same servi...</td>\n    </tr>\n    <tr>\n      <th>42</th>\n      <td>43</td>\n      <td>ct_dst_ltm</td>\n      <td>integer</td>\n      <td>No. of connections of the same destination add...</td>\n    </tr>\n    <tr>\n      <th>43</th>\n      <td>44</td>\n      <td>ct_src_ltm</td>\n      <td>integer</td>\n      <td>No. of connections of the same source address ...</td>\n    </tr>\n    <tr>\n      <th>44</th>\n      <td>45</td>\n      <td>ct_src_dport_ltm</td>\n      <td>integer</td>\n      <td>No of connections of the same source address (...</td>\n    </tr>\n    <tr>\n      <th>45</th>\n      <td>46</td>\n      <td>ct_dst_sport_ltm</td>\n      <td>integer</td>\n      <td>No of connections of the same destination addr...</td>\n    </tr>\n    <tr>\n      <th>46</th>\n      <td>47</td>\n      <td>ct_dst_src_ltm</td>\n      <td>integer</td>\n      <td>No of connections of the same source (1) and t...</td>\n    </tr>\n    <tr>\n      <th>47</th>\n      <td>48</td>\n      <td>attack_cat</td>\n      <td>nominal</td>\n      <td>The name of each attack category. In this data...</td>\n    </tr>\n    <tr>\n      <th>48</th>\n      <td>49</td>\n      <td>Label</td>\n      <td>binary</td>\n      <td>0 for normal and 1 for attack records</td>\n    </tr>\n  </tbody>\n</table>\n</div>"
     },
     "execution_count": 46,
     "metadata": {},
     "output_type": "execute_result"
    }
   ],
   "source": [
    "df_feature"
   ],
   "metadata": {
    "collapsed": false,
    "pycharm": {
     "name": "#%%\n"
    }
   }
  },
  {
   "cell_type": "code",
   "execution_count": 47,
   "outputs": [],
   "source": [
    "df_feature['name'] = ''\n",
    "df_feature.name = df_feature.Name.str.lower()"
   ],
   "metadata": {
    "collapsed": false,
    "pycharm": {
     "name": "#%%\n"
    }
   }
  },
  {
   "cell_type": "code",
   "execution_count": 48,
   "outputs": [
    {
     "data": {
      "text/plain": "Index(['id', 'dur', 'proto', 'service', 'state', 'spkts', 'dpkts', 'sbytes',\n       'dbytes', 'rate', 'sttl', 'dttl', 'sload', 'dload', 'sloss', 'dloss',\n       'sinpkt', 'dinpkt', 'sjit', 'djit', 'swin', 'stcpb', 'dtcpb', 'dwin',\n       'tcprtt', 'synack', 'ackdat', 'smean', 'dmean', 'trans_depth',\n       'response_body_len', 'ct_srv_src', 'ct_state_ttl', 'ct_dst_ltm',\n       'ct_src_dport_ltm', 'ct_dst_sport_ltm', 'ct_dst_src_ltm',\n       'is_ftp_login', 'ct_ftp_cmd', 'ct_flw_http_mthd', 'ct_src_ltm',\n       'ct_srv_dst', 'is_sm_ips_ports', 'attack_cat', 'label'],\n      dtype='object')"
     },
     "execution_count": 48,
     "metadata": {},
     "output_type": "execute_result"
    }
   ],
   "source": [
    "df_test.columns"
   ],
   "metadata": {
    "collapsed": false,
    "pycharm": {
     "name": "#%%\n"
    }
   }
  },
  {
   "cell_type": "code",
   "execution_count": 49,
   "outputs": [
    {
     "data": {
      "text/plain": "Index(['id', 'dur', 'proto', 'service', 'state', 'spkts', 'dpkts', 'sbytes',\n       'dbytes', 'rate', 'sttl', 'dttl', 'sload', 'dload', 'sloss', 'dloss',\n       'sinpkt', 'dinpkt', 'sjit', 'djit', 'swin', 'stcpb', 'dtcpb', 'dwin',\n       'tcprtt', 'synack', 'ackdat', 'smean', 'dmean', 'trans_depth',\n       'response_body_len', 'ct_srv_src', 'ct_state_ttl', 'ct_dst_ltm',\n       'ct_src_dport_ltm', 'ct_dst_sport_ltm', 'ct_dst_src_ltm',\n       'is_ftp_login', 'ct_ftp_cmd', 'ct_flw_http_mthd', 'ct_src_ltm',\n       'ct_srv_dst', 'is_sm_ips_ports', 'attack_cat', 'label'],\n      dtype='object')"
     },
     "execution_count": 49,
     "metadata": {},
     "output_type": "execute_result"
    }
   ],
   "source": [
    "df_train.columns"
   ],
   "metadata": {
    "collapsed": false,
    "pycharm": {
     "name": "#%%\n"
    }
   }
  },
  {
   "cell_type": "code",
   "execution_count": 55,
   "outputs": [],
   "source": [
    "dict = []\n",
    "for n in df_test.columns:\n",
    "    df1 = df_feature[df_feature.name == n]\n",
    "    if df1.shape[0] == 0:\n",
    "        dict.append([n, '---', '---'])\n",
    "    else:\n",
    "        dict.append([n, df1.iloc[0].Name, df1.iloc[0].Description])\n",
    "df_dict = pd.DataFrame(dict, columns=['name', 'name1', 'description'])"
   ],
   "metadata": {
    "collapsed": false,
    "pycharm": {
     "name": "#%%\n"
    }
   }
  },
  {
   "cell_type": "code",
   "execution_count": 56,
   "outputs": [
    {
     "data": {
      "text/plain": "                 name              name1  \\\n0                  id                ---   \n1                 dur                dur   \n2               proto              proto   \n3             service            service   \n4               state              state   \n5               spkts              Spkts   \n6               dpkts              Dpkts   \n7              sbytes             sbytes   \n8              dbytes             dbytes   \n9                rate                ---   \n10               sttl               sttl   \n11               dttl               dttl   \n12              sload              Sload   \n13              dload              Dload   \n14              sloss              sloss   \n15              dloss              dloss   \n16             sinpkt             Sinpkt   \n17             dinpkt             Dinpkt   \n18               sjit               Sjit   \n19               djit               Djit   \n20               swin               swin   \n21              stcpb              stcpb   \n22              dtcpb              dtcpb   \n23               dwin               dwin   \n24             tcprtt             tcprtt   \n25             synack             synack   \n26             ackdat             ackdat   \n27              smean              smean   \n28              dmean              dmean   \n29        trans_depth        trans_depth   \n30  response_body_len  response_body_len   \n31         ct_srv_src         ct_srv_src   \n32       ct_state_ttl       ct_state_ttl   \n33         ct_dst_ltm         ct_dst_ltm   \n34   ct_src_dport_ltm   ct_src_dport_ltm   \n35   ct_dst_sport_ltm   ct_dst_sport_ltm   \n36     ct_dst_src_ltm     ct_dst_src_ltm   \n37       is_ftp_login       is_ftp_login   \n38         ct_ftp_cmd         ct_ftp_cmd   \n39   ct_flw_http_mthd   ct_flw_http_mthd   \n40         ct_src_ltm         ct_src_ltm   \n41         ct_srv_dst         ct_srv_dst   \n42    is_sm_ips_ports    is_sm_ips_ports   \n43         attack_cat         attack_cat   \n44              label              Label   \n\n                                          description  \n0                                                 ---  \n1                               Record total duration  \n2                                Transaction protocol  \n3   http, ftp, smtp, ssh, dns, ftp-data ,irc  and ...  \n4   Indicates to the state and its dependent proto...  \n5                 Source to destination packet count   \n6                  Destination to source packet count  \n7            Source to destination transaction bytes   \n8             Destination to source transaction bytes  \n9                                                 ---  \n10          Source to destination time to live value   \n11           Destination to source time to live value  \n12                             Source bits per second  \n13                        Destination bits per second  \n14           Source packets retransmitted or dropped   \n15       Destination packets retransmitted or dropped  \n16             Source interpacket arrival time (mSec)  \n17        Destination interpacket arrival time (mSec)  \n18                               Source jitter (mSec)  \n19                          Destination jitter (mSec)  \n20              Source TCP window advertisement value  \n21                    Source TCP base sequence number  \n22               Destination TCP base sequence number  \n23         Destination TCP window advertisement value  \n24  TCP connection setup round-trip time, the sum ...  \n25  TCP connection setup time, the time between th...  \n26  TCP connection setup time, the time between th...  \n27  Mean of the ?ow packet size transmitted by the...  \n28  Mean of the ?ow packet size transmitted by the...  \n29  Represents the pipelined depth into the connec...  \n30  Actual uncompressed content size of the data t...  \n31  No. of connections that contain the same servi...  \n32  No. for each state (6) according to specific r...  \n33  No. of connections of the same destination add...  \n34  No of connections of the same source address (...  \n35  No of connections of the same destination addr...  \n36  No of connections of the same source (1) and t...  \n37  If the ftp session is accessed by user and pas...  \n38     No of flows that has a command in ftp session.  \n39  No. of flows that has methods such as Get and ...  \n40  No. of connections of the same source address ...  \n41  No. of connections that contain the same servi...  \n42  If source (1) and destination (3)IP addresses ...  \n43  The name of each attack category. In this data...  \n44              0 for normal and 1 for attack records  ",
      "text/html": "<div>\n<style scoped>\n    .dataframe tbody tr th:only-of-type {\n        vertical-align: middle;\n    }\n\n    .dataframe tbody tr th {\n        vertical-align: top;\n    }\n\n    .dataframe thead th {\n        text-align: right;\n    }\n</style>\n<table border=\"1\" class=\"dataframe\">\n  <thead>\n    <tr style=\"text-align: right;\">\n      <th></th>\n      <th>name</th>\n      <th>name1</th>\n      <th>description</th>\n    </tr>\n  </thead>\n  <tbody>\n    <tr>\n      <th>0</th>\n      <td>id</td>\n      <td>---</td>\n      <td>---</td>\n    </tr>\n    <tr>\n      <th>1</th>\n      <td>dur</td>\n      <td>dur</td>\n      <td>Record total duration</td>\n    </tr>\n    <tr>\n      <th>2</th>\n      <td>proto</td>\n      <td>proto</td>\n      <td>Transaction protocol</td>\n    </tr>\n    <tr>\n      <th>3</th>\n      <td>service</td>\n      <td>service</td>\n      <td>http, ftp, smtp, ssh, dns, ftp-data ,irc  and ...</td>\n    </tr>\n    <tr>\n      <th>4</th>\n      <td>state</td>\n      <td>state</td>\n      <td>Indicates to the state and its dependent proto...</td>\n    </tr>\n    <tr>\n      <th>5</th>\n      <td>spkts</td>\n      <td>Spkts</td>\n      <td>Source to destination packet count</td>\n    </tr>\n    <tr>\n      <th>6</th>\n      <td>dpkts</td>\n      <td>Dpkts</td>\n      <td>Destination to source packet count</td>\n    </tr>\n    <tr>\n      <th>7</th>\n      <td>sbytes</td>\n      <td>sbytes</td>\n      <td>Source to destination transaction bytes</td>\n    </tr>\n    <tr>\n      <th>8</th>\n      <td>dbytes</td>\n      <td>dbytes</td>\n      <td>Destination to source transaction bytes</td>\n    </tr>\n    <tr>\n      <th>9</th>\n      <td>rate</td>\n      <td>---</td>\n      <td>---</td>\n    </tr>\n    <tr>\n      <th>10</th>\n      <td>sttl</td>\n      <td>sttl</td>\n      <td>Source to destination time to live value</td>\n    </tr>\n    <tr>\n      <th>11</th>\n      <td>dttl</td>\n      <td>dttl</td>\n      <td>Destination to source time to live value</td>\n    </tr>\n    <tr>\n      <th>12</th>\n      <td>sload</td>\n      <td>Sload</td>\n      <td>Source bits per second</td>\n    </tr>\n    <tr>\n      <th>13</th>\n      <td>dload</td>\n      <td>Dload</td>\n      <td>Destination bits per second</td>\n    </tr>\n    <tr>\n      <th>14</th>\n      <td>sloss</td>\n      <td>sloss</td>\n      <td>Source packets retransmitted or dropped</td>\n    </tr>\n    <tr>\n      <th>15</th>\n      <td>dloss</td>\n      <td>dloss</td>\n      <td>Destination packets retransmitted or dropped</td>\n    </tr>\n    <tr>\n      <th>16</th>\n      <td>sinpkt</td>\n      <td>Sinpkt</td>\n      <td>Source interpacket arrival time (mSec)</td>\n    </tr>\n    <tr>\n      <th>17</th>\n      <td>dinpkt</td>\n      <td>Dinpkt</td>\n      <td>Destination interpacket arrival time (mSec)</td>\n    </tr>\n    <tr>\n      <th>18</th>\n      <td>sjit</td>\n      <td>Sjit</td>\n      <td>Source jitter (mSec)</td>\n    </tr>\n    <tr>\n      <th>19</th>\n      <td>djit</td>\n      <td>Djit</td>\n      <td>Destination jitter (mSec)</td>\n    </tr>\n    <tr>\n      <th>20</th>\n      <td>swin</td>\n      <td>swin</td>\n      <td>Source TCP window advertisement value</td>\n    </tr>\n    <tr>\n      <th>21</th>\n      <td>stcpb</td>\n      <td>stcpb</td>\n      <td>Source TCP base sequence number</td>\n    </tr>\n    <tr>\n      <th>22</th>\n      <td>dtcpb</td>\n      <td>dtcpb</td>\n      <td>Destination TCP base sequence number</td>\n    </tr>\n    <tr>\n      <th>23</th>\n      <td>dwin</td>\n      <td>dwin</td>\n      <td>Destination TCP window advertisement value</td>\n    </tr>\n    <tr>\n      <th>24</th>\n      <td>tcprtt</td>\n      <td>tcprtt</td>\n      <td>TCP connection setup round-trip time, the sum ...</td>\n    </tr>\n    <tr>\n      <th>25</th>\n      <td>synack</td>\n      <td>synack</td>\n      <td>TCP connection setup time, the time between th...</td>\n    </tr>\n    <tr>\n      <th>26</th>\n      <td>ackdat</td>\n      <td>ackdat</td>\n      <td>TCP connection setup time, the time between th...</td>\n    </tr>\n    <tr>\n      <th>27</th>\n      <td>smean</td>\n      <td>smean</td>\n      <td>Mean of the ?ow packet size transmitted by the...</td>\n    </tr>\n    <tr>\n      <th>28</th>\n      <td>dmean</td>\n      <td>dmean</td>\n      <td>Mean of the ?ow packet size transmitted by the...</td>\n    </tr>\n    <tr>\n      <th>29</th>\n      <td>trans_depth</td>\n      <td>trans_depth</td>\n      <td>Represents the pipelined depth into the connec...</td>\n    </tr>\n    <tr>\n      <th>30</th>\n      <td>response_body_len</td>\n      <td>response_body_len</td>\n      <td>Actual uncompressed content size of the data t...</td>\n    </tr>\n    <tr>\n      <th>31</th>\n      <td>ct_srv_src</td>\n      <td>ct_srv_src</td>\n      <td>No. of connections that contain the same servi...</td>\n    </tr>\n    <tr>\n      <th>32</th>\n      <td>ct_state_ttl</td>\n      <td>ct_state_ttl</td>\n      <td>No. for each state (6) according to specific r...</td>\n    </tr>\n    <tr>\n      <th>33</th>\n      <td>ct_dst_ltm</td>\n      <td>ct_dst_ltm</td>\n      <td>No. of connections of the same destination add...</td>\n    </tr>\n    <tr>\n      <th>34</th>\n      <td>ct_src_dport_ltm</td>\n      <td>ct_src_dport_ltm</td>\n      <td>No of connections of the same source address (...</td>\n    </tr>\n    <tr>\n      <th>35</th>\n      <td>ct_dst_sport_ltm</td>\n      <td>ct_dst_sport_ltm</td>\n      <td>No of connections of the same destination addr...</td>\n    </tr>\n    <tr>\n      <th>36</th>\n      <td>ct_dst_src_ltm</td>\n      <td>ct_dst_src_ltm</td>\n      <td>No of connections of the same source (1) and t...</td>\n    </tr>\n    <tr>\n      <th>37</th>\n      <td>is_ftp_login</td>\n      <td>is_ftp_login</td>\n      <td>If the ftp session is accessed by user and pas...</td>\n    </tr>\n    <tr>\n      <th>38</th>\n      <td>ct_ftp_cmd</td>\n      <td>ct_ftp_cmd</td>\n      <td>No of flows that has a command in ftp session.</td>\n    </tr>\n    <tr>\n      <th>39</th>\n      <td>ct_flw_http_mthd</td>\n      <td>ct_flw_http_mthd</td>\n      <td>No. of flows that has methods such as Get and ...</td>\n    </tr>\n    <tr>\n      <th>40</th>\n      <td>ct_src_ltm</td>\n      <td>ct_src_ltm</td>\n      <td>No. of connections of the same source address ...</td>\n    </tr>\n    <tr>\n      <th>41</th>\n      <td>ct_srv_dst</td>\n      <td>ct_srv_dst</td>\n      <td>No. of connections that contain the same servi...</td>\n    </tr>\n    <tr>\n      <th>42</th>\n      <td>is_sm_ips_ports</td>\n      <td>is_sm_ips_ports</td>\n      <td>If source (1) and destination (3)IP addresses ...</td>\n    </tr>\n    <tr>\n      <th>43</th>\n      <td>attack_cat</td>\n      <td>attack_cat</td>\n      <td>The name of each attack category. In this data...</td>\n    </tr>\n    <tr>\n      <th>44</th>\n      <td>label</td>\n      <td>Label</td>\n      <td>0 for normal and 1 for attack records</td>\n    </tr>\n  </tbody>\n</table>\n</div>"
     },
     "execution_count": 56,
     "metadata": {},
     "output_type": "execute_result"
    }
   ],
   "source": [
    "df_dict"
   ],
   "metadata": {
    "collapsed": false,
    "pycharm": {
     "name": "#%%\n"
    }
   }
  },
  {
   "cell_type": "markdown",
   "source": [],
   "metadata": {
    "collapsed": false,
    "pycharm": {
     "name": "#%% md\n"
    }
   }
  },
  {
   "cell_type": "code",
   "execution_count": 66,
   "outputs": [],
   "source": [
    "y = df_train.label\n",
    "X = df_train.drop(columns=['id','label', 'attack_cat'])"
   ],
   "metadata": {
    "collapsed": false,
    "pycharm": {
     "name": "#%%\n"
    }
   }
  },
  {
   "cell_type": "code",
   "execution_count": 70,
   "outputs": [],
   "source": [
    "from sklearn.preprocessing import OneHotEncoder"
   ],
   "metadata": {
    "collapsed": false,
    "pycharm": {
     "name": "#%%\n"
    }
   }
  },
  {
   "cell_type": "code",
   "execution_count": 74,
   "outputs": [
    {
     "data": {
      "text/plain": "        dur proto service state  spkts  dpkts  sbytes  dbytes         rate  \\\n0  0.000011   udp       -   INT      2      0     496       0   90909.0902   \n1  0.000008   udp       -   INT      2      0    1762       0  125000.0003   \n2  0.000005   udp       -   INT      2      0    1068       0  200000.0051   \n3  0.000006   udp       -   INT      2      0     900       0  166666.6608   \n4  0.000010   udp       -   INT      2      0    2126       0  100000.0025   \n\n   sttl  ...  ct_dst_ltm  ct_src_dport_ltm  ct_dst_sport_ltm  ct_dst_src_ltm  \\\n0   254  ...           1                 1                 1               2   \n1   254  ...           1                 1                 1               2   \n2   254  ...           1                 1                 1               3   \n3   254  ...           2                 2                 1               3   \n4   254  ...           2                 2                 1               3   \n\n   is_ftp_login  ct_ftp_cmd  ct_flw_http_mthd  ct_src_ltm  ct_srv_dst  \\\n0             0           0                 0           1           2   \n1             0           0                 0           1           2   \n2             0           0                 0           1           3   \n3             0           0                 0           2           3   \n4             0           0                 0           2           3   \n\n   is_sm_ips_ports  \n0                0  \n1                0  \n2                0  \n3                0  \n4                0  \n\n[5 rows x 42 columns]",
      "text/html": "<div>\n<style scoped>\n    .dataframe tbody tr th:only-of-type {\n        vertical-align: middle;\n    }\n\n    .dataframe tbody tr th {\n        vertical-align: top;\n    }\n\n    .dataframe thead th {\n        text-align: right;\n    }\n</style>\n<table border=\"1\" class=\"dataframe\">\n  <thead>\n    <tr style=\"text-align: right;\">\n      <th></th>\n      <th>dur</th>\n      <th>proto</th>\n      <th>service</th>\n      <th>state</th>\n      <th>spkts</th>\n      <th>dpkts</th>\n      <th>sbytes</th>\n      <th>dbytes</th>\n      <th>rate</th>\n      <th>sttl</th>\n      <th>...</th>\n      <th>ct_dst_ltm</th>\n      <th>ct_src_dport_ltm</th>\n      <th>ct_dst_sport_ltm</th>\n      <th>ct_dst_src_ltm</th>\n      <th>is_ftp_login</th>\n      <th>ct_ftp_cmd</th>\n      <th>ct_flw_http_mthd</th>\n      <th>ct_src_ltm</th>\n      <th>ct_srv_dst</th>\n      <th>is_sm_ips_ports</th>\n    </tr>\n  </thead>\n  <tbody>\n    <tr>\n      <th>0</th>\n      <td>0.000011</td>\n      <td>udp</td>\n      <td>-</td>\n      <td>INT</td>\n      <td>2</td>\n      <td>0</td>\n      <td>496</td>\n      <td>0</td>\n      <td>90909.0902</td>\n      <td>254</td>\n      <td>...</td>\n      <td>1</td>\n      <td>1</td>\n      <td>1</td>\n      <td>2</td>\n      <td>0</td>\n      <td>0</td>\n      <td>0</td>\n      <td>1</td>\n      <td>2</td>\n      <td>0</td>\n    </tr>\n    <tr>\n      <th>1</th>\n      <td>0.000008</td>\n      <td>udp</td>\n      <td>-</td>\n      <td>INT</td>\n      <td>2</td>\n      <td>0</td>\n      <td>1762</td>\n      <td>0</td>\n      <td>125000.0003</td>\n      <td>254</td>\n      <td>...</td>\n      <td>1</td>\n      <td>1</td>\n      <td>1</td>\n      <td>2</td>\n      <td>0</td>\n      <td>0</td>\n      <td>0</td>\n      <td>1</td>\n      <td>2</td>\n      <td>0</td>\n    </tr>\n    <tr>\n      <th>2</th>\n      <td>0.000005</td>\n      <td>udp</td>\n      <td>-</td>\n      <td>INT</td>\n      <td>2</td>\n      <td>0</td>\n      <td>1068</td>\n      <td>0</td>\n      <td>200000.0051</td>\n      <td>254</td>\n      <td>...</td>\n      <td>1</td>\n      <td>1</td>\n      <td>1</td>\n      <td>3</td>\n      <td>0</td>\n      <td>0</td>\n      <td>0</td>\n      <td>1</td>\n      <td>3</td>\n      <td>0</td>\n    </tr>\n    <tr>\n      <th>3</th>\n      <td>0.000006</td>\n      <td>udp</td>\n      <td>-</td>\n      <td>INT</td>\n      <td>2</td>\n      <td>0</td>\n      <td>900</td>\n      <td>0</td>\n      <td>166666.6608</td>\n      <td>254</td>\n      <td>...</td>\n      <td>2</td>\n      <td>2</td>\n      <td>1</td>\n      <td>3</td>\n      <td>0</td>\n      <td>0</td>\n      <td>0</td>\n      <td>2</td>\n      <td>3</td>\n      <td>0</td>\n    </tr>\n    <tr>\n      <th>4</th>\n      <td>0.000010</td>\n      <td>udp</td>\n      <td>-</td>\n      <td>INT</td>\n      <td>2</td>\n      <td>0</td>\n      <td>2126</td>\n      <td>0</td>\n      <td>100000.0025</td>\n      <td>254</td>\n      <td>...</td>\n      <td>2</td>\n      <td>2</td>\n      <td>1</td>\n      <td>3</td>\n      <td>0</td>\n      <td>0</td>\n      <td>0</td>\n      <td>2</td>\n      <td>3</td>\n      <td>0</td>\n    </tr>\n  </tbody>\n</table>\n<p>5 rows × 42 columns</p>\n</div>"
     },
     "execution_count": 74,
     "metadata": {},
     "output_type": "execute_result"
    }
   ],
   "source": [
    "X.head()"
   ],
   "metadata": {
    "collapsed": false,
    "pycharm": {
     "name": "#%%\n"
    }
   }
  },
  {
   "cell_type": "code",
   "execution_count": 76,
   "outputs": [],
   "source": [
    "X_category=X[['proto','service','state']]\n"
   ],
   "metadata": {
    "collapsed": false,
    "pycharm": {
     "name": "#%%\n"
    }
   }
  },
  {
   "cell_type": "code",
   "execution_count": 78,
   "outputs": [
    {
     "data": {
      "text/plain": "OneHotEncoder(handle_unknown='ignore')",
      "text/html": "<style>#sk-container-id-2 {color: black;background-color: white;}#sk-container-id-2 pre{padding: 0;}#sk-container-id-2 div.sk-toggleable {background-color: white;}#sk-container-id-2 label.sk-toggleable__label {cursor: pointer;display: block;width: 100%;margin-bottom: 0;padding: 0.3em;box-sizing: border-box;text-align: center;}#sk-container-id-2 label.sk-toggleable__label-arrow:before {content: \"▸\";float: left;margin-right: 0.25em;color: #696969;}#sk-container-id-2 label.sk-toggleable__label-arrow:hover:before {color: black;}#sk-container-id-2 div.sk-estimator:hover label.sk-toggleable__label-arrow:before {color: black;}#sk-container-id-2 div.sk-toggleable__content {max-height: 0;max-width: 0;overflow: hidden;text-align: left;background-color: #f0f8ff;}#sk-container-id-2 div.sk-toggleable__content pre {margin: 0.2em;color: black;border-radius: 0.25em;background-color: #f0f8ff;}#sk-container-id-2 input.sk-toggleable__control:checked~div.sk-toggleable__content {max-height: 200px;max-width: 100%;overflow: auto;}#sk-container-id-2 input.sk-toggleable__control:checked~label.sk-toggleable__label-arrow:before {content: \"▾\";}#sk-container-id-2 div.sk-estimator input.sk-toggleable__control:checked~label.sk-toggleable__label {background-color: #d4ebff;}#sk-container-id-2 div.sk-label input.sk-toggleable__control:checked~label.sk-toggleable__label {background-color: #d4ebff;}#sk-container-id-2 input.sk-hidden--visually {border: 0;clip: rect(1px 1px 1px 1px);clip: rect(1px, 1px, 1px, 1px);height: 1px;margin: -1px;overflow: hidden;padding: 0;position: absolute;width: 1px;}#sk-container-id-2 div.sk-estimator {font-family: monospace;background-color: #f0f8ff;border: 1px dotted black;border-radius: 0.25em;box-sizing: border-box;margin-bottom: 0.5em;}#sk-container-id-2 div.sk-estimator:hover {background-color: #d4ebff;}#sk-container-id-2 div.sk-parallel-item::after {content: \"\";width: 100%;border-bottom: 1px solid gray;flex-grow: 1;}#sk-container-id-2 div.sk-label:hover label.sk-toggleable__label {background-color: #d4ebff;}#sk-container-id-2 div.sk-serial::before {content: \"\";position: absolute;border-left: 1px solid gray;box-sizing: border-box;top: 0;bottom: 0;left: 50%;z-index: 0;}#sk-container-id-2 div.sk-serial {display: flex;flex-direction: column;align-items: center;background-color: white;padding-right: 0.2em;padding-left: 0.2em;position: relative;}#sk-container-id-2 div.sk-item {position: relative;z-index: 1;}#sk-container-id-2 div.sk-parallel {display: flex;align-items: stretch;justify-content: center;background-color: white;position: relative;}#sk-container-id-2 div.sk-item::before, #sk-container-id-2 div.sk-parallel-item::before {content: \"\";position: absolute;border-left: 1px solid gray;box-sizing: border-box;top: 0;bottom: 0;left: 50%;z-index: -1;}#sk-container-id-2 div.sk-parallel-item {display: flex;flex-direction: column;z-index: 1;position: relative;background-color: white;}#sk-container-id-2 div.sk-parallel-item:first-child::after {align-self: flex-end;width: 50%;}#sk-container-id-2 div.sk-parallel-item:last-child::after {align-self: flex-start;width: 50%;}#sk-container-id-2 div.sk-parallel-item:only-child::after {width: 0;}#sk-container-id-2 div.sk-dashed-wrapped {border: 1px dashed gray;margin: 0 0.4em 0.5em 0.4em;box-sizing: border-box;padding-bottom: 0.4em;background-color: white;}#sk-container-id-2 div.sk-label label {font-family: monospace;font-weight: bold;display: inline-block;line-height: 1.2em;}#sk-container-id-2 div.sk-label-container {text-align: center;}#sk-container-id-2 div.sk-container {/* jupyter's `normalize.less` sets `[hidden] { display: none; }` but bootstrap.min.css set `[hidden] { display: none !important; }` so we also need the `!important` here to be able to override the default hidden behavior on the sphinx rendered scikit-learn.org. See: https://github.com/scikit-learn/scikit-learn/issues/21755 */display: inline-block !important;position: relative;}#sk-container-id-2 div.sk-text-repr-fallback {display: none;}</style><div id=\"sk-container-id-2\" class=\"sk-top-container\"><div class=\"sk-text-repr-fallback\"><pre>OneHotEncoder(handle_unknown=&#x27;ignore&#x27;)</pre><b>In a Jupyter environment, please rerun this cell to show the HTML representation or trust the notebook. <br />On GitHub, the HTML representation is unable to render, please try loading this page with nbviewer.org.</b></div><div class=\"sk-container\" hidden><div class=\"sk-item\"><div class=\"sk-estimator sk-toggleable\"><input class=\"sk-toggleable__control sk-hidden--visually\" id=\"sk-estimator-id-2\" type=\"checkbox\" checked><label for=\"sk-estimator-id-2\" class=\"sk-toggleable__label sk-toggleable__label-arrow\">OneHotEncoder</label><div class=\"sk-toggleable__content\"><pre>OneHotEncoder(handle_unknown=&#x27;ignore&#x27;)</pre></div></div></div></div></div>"
     },
     "execution_count": 78,
     "metadata": {},
     "output_type": "execute_result"
    }
   ],
   "source": [
    "enc = OneHotEncoder(handle_unknown='ignore')\n",
    "enc.fit(X_category)"
   ],
   "metadata": {
    "collapsed": false,
    "pycharm": {
     "name": "#%%\n"
    }
   }
  },
  {
   "cell_type": "code",
   "execution_count": 79,
   "outputs": [
    {
     "data": {
      "text/plain": "[array(['3pc', 'a/n', 'aes-sp3-d', 'any', 'argus', 'aris', 'arp', 'ax.25',\n        'bbn-rcc', 'bna', 'br-sat-mon', 'cbt', 'cftp', 'chaos',\n        'compaq-peer', 'cphb', 'cpnx', 'crtp', 'crudp', 'dcn', 'ddp',\n        'ddx', 'dgp', 'egp', 'eigrp', 'emcon', 'encap', 'etherip', 'fc',\n        'fire', 'ggp', 'gmtp', 'gre', 'hmp', 'i-nlsp', 'iatp', 'ib',\n        'idpr', 'idpr-cmtp', 'idrp', 'ifmp', 'igmp', 'igp', 'il', 'ip',\n        'ipcomp', 'ipcv', 'ipip', 'iplt', 'ipnip', 'ippc', 'ipv6',\n        'ipv6-frag', 'ipv6-no', 'ipv6-opts', 'ipv6-route', 'ipx-n-ip',\n        'irtp', 'isis', 'iso-ip', 'iso-tp4', 'kryptolan', 'l2tp', 'larp',\n        'leaf-1', 'leaf-2', 'merit-inp', 'mfe-nsp', 'mhrp', 'micp',\n        'mobile', 'mtp', 'mux', 'narp', 'netblt', 'nsfnet-igp', 'nvp',\n        'ospf', 'pgm', 'pim', 'pipe', 'pnni', 'pri-enc', 'prm', 'ptp',\n        'pup', 'pvp', 'qnx', 'rdp', 'rsvp', 'rvd', 'sat-expak', 'sat-mon',\n        'sccopmce', 'scps', 'sctp', 'sdrp', 'secure-vmtp', 'sep', 'skip',\n        'sm', 'smp', 'snp', 'sprite-rpc', 'sps', 'srp', 'st2', 'stp',\n        'sun-nd', 'swipe', 'tcf', 'tcp', 'tlsp', 'tp++', 'trunk-1',\n        'trunk-2', 'ttp', 'udp', 'unas', 'uti', 'vines', 'visa', 'vmtp',\n        'vrrp', 'wb-expak', 'wb-mon', 'wsn', 'xnet', 'xns-idp', 'xtp',\n        'zero'], dtype=object),\n array(['-', 'dhcp', 'dns', 'ftp', 'ftp-data', 'http', 'irc', 'pop3',\n        'radius', 'smtp', 'snmp', 'ssh', 'ssl'], dtype=object),\n array(['ACC', 'CLO', 'CON', 'FIN', 'INT', 'REQ', 'RST'], dtype=object)]"
     },
     "execution_count": 79,
     "metadata": {},
     "output_type": "execute_result"
    }
   ],
   "source": [
    "enc.categories_"
   ],
   "metadata": {
    "collapsed": false,
    "pycharm": {
     "name": "#%%\n"
    }
   }
  },
  {
   "cell_type": "code",
   "execution_count": 85,
   "outputs": [
    {
     "data": {
      "text/plain": "array(['proto_3pc', 'proto_a/n', 'proto_aes-sp3-d', 'proto_any',\n       'proto_argus', 'proto_aris', 'proto_arp', 'proto_ax.25',\n       'proto_bbn-rcc', 'proto_bna', 'proto_br-sat-mon', 'proto_cbt',\n       'proto_cftp', 'proto_chaos', 'proto_compaq-peer', 'proto_cphb',\n       'proto_cpnx', 'proto_crtp', 'proto_crudp', 'proto_dcn',\n       'proto_ddp', 'proto_ddx', 'proto_dgp', 'proto_egp', 'proto_eigrp',\n       'proto_emcon', 'proto_encap', 'proto_etherip', 'proto_fc',\n       'proto_fire', 'proto_ggp', 'proto_gmtp', 'proto_gre', 'proto_hmp',\n       'proto_i-nlsp', 'proto_iatp', 'proto_ib', 'proto_idpr',\n       'proto_idpr-cmtp', 'proto_idrp', 'proto_ifmp', 'proto_igmp',\n       'proto_igp', 'proto_il', 'proto_ip', 'proto_ipcomp', 'proto_ipcv',\n       'proto_ipip', 'proto_iplt', 'proto_ipnip', 'proto_ippc',\n       'proto_ipv6', 'proto_ipv6-frag', 'proto_ipv6-no',\n       'proto_ipv6-opts', 'proto_ipv6-route', 'proto_ipx-n-ip',\n       'proto_irtp', 'proto_isis', 'proto_iso-ip', 'proto_iso-tp4',\n       'proto_kryptolan', 'proto_l2tp', 'proto_larp', 'proto_leaf-1',\n       'proto_leaf-2', 'proto_merit-inp', 'proto_mfe-nsp', 'proto_mhrp',\n       'proto_micp', 'proto_mobile', 'proto_mtp', 'proto_mux',\n       'proto_narp', 'proto_netblt', 'proto_nsfnet-igp', 'proto_nvp',\n       'proto_ospf', 'proto_pgm', 'proto_pim', 'proto_pipe', 'proto_pnni',\n       'proto_pri-enc', 'proto_prm', 'proto_ptp', 'proto_pup',\n       'proto_pvp', 'proto_qnx', 'proto_rdp', 'proto_rsvp', 'proto_rvd',\n       'proto_sat-expak', 'proto_sat-mon', 'proto_sccopmce', 'proto_scps',\n       'proto_sctp', 'proto_sdrp', 'proto_secure-vmtp', 'proto_sep',\n       'proto_skip', 'proto_sm', 'proto_smp', 'proto_snp',\n       'proto_sprite-rpc', 'proto_sps', 'proto_srp', 'proto_st2',\n       'proto_stp', 'proto_sun-nd', 'proto_swipe', 'proto_tcf',\n       'proto_tcp', 'proto_tlsp', 'proto_tp++', 'proto_trunk-1',\n       'proto_trunk-2', 'proto_ttp', 'proto_udp', 'proto_unas',\n       'proto_uti', 'proto_vines', 'proto_visa', 'proto_vmtp',\n       'proto_vrrp', 'proto_wb-expak', 'proto_wb-mon', 'proto_wsn',\n       'proto_xnet', 'proto_xns-idp', 'proto_xtp', 'proto_zero',\n       'service_-', 'service_dhcp', 'service_dns', 'service_ftp',\n       'service_ftp-data', 'service_http', 'service_irc', 'service_pop3',\n       'service_radius', 'service_smtp', 'service_snmp', 'service_ssh',\n       'service_ssl', 'state_ACC', 'state_CLO', 'state_CON', 'state_FIN',\n       'state_INT', 'state_REQ', 'state_RST'], dtype=object)"
     },
     "execution_count": 85,
     "metadata": {},
     "output_type": "execute_result"
    }
   ],
   "source": [
    "enc.get_feature_names_out()"
   ],
   "metadata": {
    "collapsed": false,
    "pycharm": {
     "name": "#%%\n"
    }
   }
  },
  {
   "cell_type": "code",
   "execution_count": 87,
   "outputs": [],
   "source": [
    "X_category_transform = enc.transform(X_category).toarray()"
   ],
   "metadata": {
    "collapsed": false,
    "pycharm": {
     "name": "#%%\n"
    }
   }
  },
  {
   "cell_type": "code",
   "execution_count": 88,
   "outputs": [],
   "source": [
    "X_category_transform = pd.DataFrame(X_category_transform, columns=enc.get_feature_names_out())"
   ],
   "metadata": {
    "collapsed": false,
    "pycharm": {
     "name": "#%%\n"
    }
   }
  },
  {
   "cell_type": "code",
   "execution_count": 90,
   "outputs": [
    {
     "data": {
      "text/plain": "   proto_3pc  proto_a/n  proto_aes-sp3-d  proto_any  proto_argus  proto_aris  \\\n0        0.0        0.0              0.0        0.0          0.0         0.0   \n1        0.0        0.0              0.0        0.0          0.0         0.0   \n2        0.0        0.0              0.0        0.0          0.0         0.0   \n3        0.0        0.0              0.0        0.0          0.0         0.0   \n4        0.0        0.0              0.0        0.0          0.0         0.0   \n\n   proto_arp  proto_ax.25  proto_bbn-rcc  proto_bna  ...  service_snmp  \\\n0        0.0          0.0            0.0        0.0  ...           0.0   \n1        0.0          0.0            0.0        0.0  ...           0.0   \n2        0.0          0.0            0.0        0.0  ...           0.0   \n3        0.0          0.0            0.0        0.0  ...           0.0   \n4        0.0          0.0            0.0        0.0  ...           0.0   \n\n   service_ssh  service_ssl  state_ACC  state_CLO  state_CON  state_FIN  \\\n0          0.0          0.0        0.0        0.0        0.0        0.0   \n1          0.0          0.0        0.0        0.0        0.0        0.0   \n2          0.0          0.0        0.0        0.0        0.0        0.0   \n3          0.0          0.0        0.0        0.0        0.0        0.0   \n4          0.0          0.0        0.0        0.0        0.0        0.0   \n\n   state_INT  state_REQ  state_RST  \n0        1.0        0.0        0.0  \n1        1.0        0.0        0.0  \n2        1.0        0.0        0.0  \n3        1.0        0.0        0.0  \n4        1.0        0.0        0.0  \n\n[5 rows x 151 columns]",
      "text/html": "<div>\n<style scoped>\n    .dataframe tbody tr th:only-of-type {\n        vertical-align: middle;\n    }\n\n    .dataframe tbody tr th {\n        vertical-align: top;\n    }\n\n    .dataframe thead th {\n        text-align: right;\n    }\n</style>\n<table border=\"1\" class=\"dataframe\">\n  <thead>\n    <tr style=\"text-align: right;\">\n      <th></th>\n      <th>proto_3pc</th>\n      <th>proto_a/n</th>\n      <th>proto_aes-sp3-d</th>\n      <th>proto_any</th>\n      <th>proto_argus</th>\n      <th>proto_aris</th>\n      <th>proto_arp</th>\n      <th>proto_ax.25</th>\n      <th>proto_bbn-rcc</th>\n      <th>proto_bna</th>\n      <th>...</th>\n      <th>service_snmp</th>\n      <th>service_ssh</th>\n      <th>service_ssl</th>\n      <th>state_ACC</th>\n      <th>state_CLO</th>\n      <th>state_CON</th>\n      <th>state_FIN</th>\n      <th>state_INT</th>\n      <th>state_REQ</th>\n      <th>state_RST</th>\n    </tr>\n  </thead>\n  <tbody>\n    <tr>\n      <th>0</th>\n      <td>0.0</td>\n      <td>0.0</td>\n      <td>0.0</td>\n      <td>0.0</td>\n      <td>0.0</td>\n      <td>0.0</td>\n      <td>0.0</td>\n      <td>0.0</td>\n      <td>0.0</td>\n      <td>0.0</td>\n      <td>...</td>\n      <td>0.0</td>\n      <td>0.0</td>\n      <td>0.0</td>\n      <td>0.0</td>\n      <td>0.0</td>\n      <td>0.0</td>\n      <td>0.0</td>\n      <td>1.0</td>\n      <td>0.0</td>\n      <td>0.0</td>\n    </tr>\n    <tr>\n      <th>1</th>\n      <td>0.0</td>\n      <td>0.0</td>\n      <td>0.0</td>\n      <td>0.0</td>\n      <td>0.0</td>\n      <td>0.0</td>\n      <td>0.0</td>\n      <td>0.0</td>\n      <td>0.0</td>\n      <td>0.0</td>\n      <td>...</td>\n      <td>0.0</td>\n      <td>0.0</td>\n      <td>0.0</td>\n      <td>0.0</td>\n      <td>0.0</td>\n      <td>0.0</td>\n      <td>0.0</td>\n      <td>1.0</td>\n      <td>0.0</td>\n      <td>0.0</td>\n    </tr>\n    <tr>\n      <th>2</th>\n      <td>0.0</td>\n      <td>0.0</td>\n      <td>0.0</td>\n      <td>0.0</td>\n      <td>0.0</td>\n      <td>0.0</td>\n      <td>0.0</td>\n      <td>0.0</td>\n      <td>0.0</td>\n      <td>0.0</td>\n      <td>...</td>\n      <td>0.0</td>\n      <td>0.0</td>\n      <td>0.0</td>\n      <td>0.0</td>\n      <td>0.0</td>\n      <td>0.0</td>\n      <td>0.0</td>\n      <td>1.0</td>\n      <td>0.0</td>\n      <td>0.0</td>\n    </tr>\n    <tr>\n      <th>3</th>\n      <td>0.0</td>\n      <td>0.0</td>\n      <td>0.0</td>\n      <td>0.0</td>\n      <td>0.0</td>\n      <td>0.0</td>\n      <td>0.0</td>\n      <td>0.0</td>\n      <td>0.0</td>\n      <td>0.0</td>\n      <td>...</td>\n      <td>0.0</td>\n      <td>0.0</td>\n      <td>0.0</td>\n      <td>0.0</td>\n      <td>0.0</td>\n      <td>0.0</td>\n      <td>0.0</td>\n      <td>1.0</td>\n      <td>0.0</td>\n      <td>0.0</td>\n    </tr>\n    <tr>\n      <th>4</th>\n      <td>0.0</td>\n      <td>0.0</td>\n      <td>0.0</td>\n      <td>0.0</td>\n      <td>0.0</td>\n      <td>0.0</td>\n      <td>0.0</td>\n      <td>0.0</td>\n      <td>0.0</td>\n      <td>0.0</td>\n      <td>...</td>\n      <td>0.0</td>\n      <td>0.0</td>\n      <td>0.0</td>\n      <td>0.0</td>\n      <td>0.0</td>\n      <td>0.0</td>\n      <td>0.0</td>\n      <td>1.0</td>\n      <td>0.0</td>\n      <td>0.0</td>\n    </tr>\n  </tbody>\n</table>\n<p>5 rows × 151 columns</p>\n</div>"
     },
     "execution_count": 90,
     "metadata": {},
     "output_type": "execute_result"
    }
   ],
   "source": [
    "X_category_transform.head()"
   ],
   "metadata": {
    "collapsed": false,
    "pycharm": {
     "name": "#%%\n"
    }
   }
  },
  {
   "cell_type": "code",
   "execution_count": 91,
   "outputs": [],
   "source": [
    "X.drop(columns=['proto','service','state'], inplace=True)"
   ],
   "metadata": {
    "collapsed": false,
    "pycharm": {
     "name": "#%%\n"
    }
   }
  },
  {
   "cell_type": "code",
   "execution_count": 93,
   "outputs": [],
   "source": [
    "X=pd.concat([X,X_category_transform],axis=1)"
   ],
   "metadata": {
    "collapsed": false,
    "pycharm": {
     "name": "#%%\n"
    }
   }
  },
  {
   "cell_type": "code",
   "execution_count": 94,
   "outputs": [],
   "source": [
    "from sklearn.model_selection import train_test_split"
   ],
   "metadata": {
    "collapsed": false,
    "pycharm": {
     "name": "#%%\n"
    }
   }
  },
  {
   "cell_type": "code",
   "execution_count": 95,
   "outputs": [],
   "source": [
    "X_train, X_test, y_train, y_test = train_test_split(X, y, test_size=0.33, random_state=42)"
   ],
   "metadata": {
    "collapsed": false,
    "pycharm": {
     "name": "#%%\n"
    }
   }
  },
  {
   "cell_type": "code",
   "execution_count": 96,
   "outputs": [],
   "source": [
    "from sklearn.ensemble import RandomForestClassifier"
   ],
   "metadata": {
    "collapsed": false,
    "pycharm": {
     "name": "#%%\n"
    }
   }
  },
  {
   "cell_type": "markdown",
   "source": [
    "criterion: “entropy”, max_depth: None, max_features: 10, min_samples_leaf:\n",
    "1, min_samples_split: 10, n_estimators: 100"
   ],
   "metadata": {
    "collapsed": false,
    "pycharm": {
     "name": "#%% md\n"
    }
   }
  },
  {
   "cell_type": "code",
   "execution_count": 97,
   "outputs": [],
   "source": [
    "clf = RandomForestClassifier(criterion='entropy', max_depth=None, max_features=10, min_samples_leaf=1,min_samples_split=10, n_estimators=100, random_state=42)"
   ],
   "metadata": {
    "collapsed": false,
    "pycharm": {
     "name": "#%%\n"
    }
   }
  },
  {
   "cell_type": "code",
   "execution_count": 98,
   "outputs": [
    {
     "data": {
      "text/plain": "RandomForestClassifier(criterion='entropy', max_features=10,\n                       min_samples_split=10, random_state=42)",
      "text/html": "<style>#sk-container-id-3 {color: black;background-color: white;}#sk-container-id-3 pre{padding: 0;}#sk-container-id-3 div.sk-toggleable {background-color: white;}#sk-container-id-3 label.sk-toggleable__label {cursor: pointer;display: block;width: 100%;margin-bottom: 0;padding: 0.3em;box-sizing: border-box;text-align: center;}#sk-container-id-3 label.sk-toggleable__label-arrow:before {content: \"▸\";float: left;margin-right: 0.25em;color: #696969;}#sk-container-id-3 label.sk-toggleable__label-arrow:hover:before {color: black;}#sk-container-id-3 div.sk-estimator:hover label.sk-toggleable__label-arrow:before {color: black;}#sk-container-id-3 div.sk-toggleable__content {max-height: 0;max-width: 0;overflow: hidden;text-align: left;background-color: #f0f8ff;}#sk-container-id-3 div.sk-toggleable__content pre {margin: 0.2em;color: black;border-radius: 0.25em;background-color: #f0f8ff;}#sk-container-id-3 input.sk-toggleable__control:checked~div.sk-toggleable__content {max-height: 200px;max-width: 100%;overflow: auto;}#sk-container-id-3 input.sk-toggleable__control:checked~label.sk-toggleable__label-arrow:before {content: \"▾\";}#sk-container-id-3 div.sk-estimator input.sk-toggleable__control:checked~label.sk-toggleable__label {background-color: #d4ebff;}#sk-container-id-3 div.sk-label input.sk-toggleable__control:checked~label.sk-toggleable__label {background-color: #d4ebff;}#sk-container-id-3 input.sk-hidden--visually {border: 0;clip: rect(1px 1px 1px 1px);clip: rect(1px, 1px, 1px, 1px);height: 1px;margin: -1px;overflow: hidden;padding: 0;position: absolute;width: 1px;}#sk-container-id-3 div.sk-estimator {font-family: monospace;background-color: #f0f8ff;border: 1px dotted black;border-radius: 0.25em;box-sizing: border-box;margin-bottom: 0.5em;}#sk-container-id-3 div.sk-estimator:hover {background-color: #d4ebff;}#sk-container-id-3 div.sk-parallel-item::after {content: \"\";width: 100%;border-bottom: 1px solid gray;flex-grow: 1;}#sk-container-id-3 div.sk-label:hover label.sk-toggleable__label {background-color: #d4ebff;}#sk-container-id-3 div.sk-serial::before {content: \"\";position: absolute;border-left: 1px solid gray;box-sizing: border-box;top: 0;bottom: 0;left: 50%;z-index: 0;}#sk-container-id-3 div.sk-serial {display: flex;flex-direction: column;align-items: center;background-color: white;padding-right: 0.2em;padding-left: 0.2em;position: relative;}#sk-container-id-3 div.sk-item {position: relative;z-index: 1;}#sk-container-id-3 div.sk-parallel {display: flex;align-items: stretch;justify-content: center;background-color: white;position: relative;}#sk-container-id-3 div.sk-item::before, #sk-container-id-3 div.sk-parallel-item::before {content: \"\";position: absolute;border-left: 1px solid gray;box-sizing: border-box;top: 0;bottom: 0;left: 50%;z-index: -1;}#sk-container-id-3 div.sk-parallel-item {display: flex;flex-direction: column;z-index: 1;position: relative;background-color: white;}#sk-container-id-3 div.sk-parallel-item:first-child::after {align-self: flex-end;width: 50%;}#sk-container-id-3 div.sk-parallel-item:last-child::after {align-self: flex-start;width: 50%;}#sk-container-id-3 div.sk-parallel-item:only-child::after {width: 0;}#sk-container-id-3 div.sk-dashed-wrapped {border: 1px dashed gray;margin: 0 0.4em 0.5em 0.4em;box-sizing: border-box;padding-bottom: 0.4em;background-color: white;}#sk-container-id-3 div.sk-label label {font-family: monospace;font-weight: bold;display: inline-block;line-height: 1.2em;}#sk-container-id-3 div.sk-label-container {text-align: center;}#sk-container-id-3 div.sk-container {/* jupyter's `normalize.less` sets `[hidden] { display: none; }` but bootstrap.min.css set `[hidden] { display: none !important; }` so we also need the `!important` here to be able to override the default hidden behavior on the sphinx rendered scikit-learn.org. See: https://github.com/scikit-learn/scikit-learn/issues/21755 */display: inline-block !important;position: relative;}#sk-container-id-3 div.sk-text-repr-fallback {display: none;}</style><div id=\"sk-container-id-3\" class=\"sk-top-container\"><div class=\"sk-text-repr-fallback\"><pre>RandomForestClassifier(criterion=&#x27;entropy&#x27;, max_features=10,\n                       min_samples_split=10, random_state=42)</pre><b>In a Jupyter environment, please rerun this cell to show the HTML representation or trust the notebook. <br />On GitHub, the HTML representation is unable to render, please try loading this page with nbviewer.org.</b></div><div class=\"sk-container\" hidden><div class=\"sk-item\"><div class=\"sk-estimator sk-toggleable\"><input class=\"sk-toggleable__control sk-hidden--visually\" id=\"sk-estimator-id-3\" type=\"checkbox\" checked><label for=\"sk-estimator-id-3\" class=\"sk-toggleable__label sk-toggleable__label-arrow\">RandomForestClassifier</label><div class=\"sk-toggleable__content\"><pre>RandomForestClassifier(criterion=&#x27;entropy&#x27;, max_features=10,\n                       min_samples_split=10, random_state=42)</pre></div></div></div></div></div>"
     },
     "execution_count": 98,
     "metadata": {},
     "output_type": "execute_result"
    }
   ],
   "source": [
    "clf.fit(X_train, y_train)"
   ],
   "metadata": {
    "collapsed": false,
    "pycharm": {
     "name": "#%%\n"
    }
   }
  },
  {
   "cell_type": "code",
   "execution_count": 102,
   "outputs": [],
   "source": [
    "from sklearn.metrics import confusion_matrix, f1_score, accuracy_score"
   ],
   "metadata": {
    "collapsed": false,
    "pycharm": {
     "name": "#%%\n"
    }
   }
  },
  {
   "cell_type": "code",
   "execution_count": 99,
   "outputs": [],
   "source": [
    "prediction = clf.predict(X_test)"
   ],
   "metadata": {
    "collapsed": false,
    "pycharm": {
     "name": "#%%\n"
    }
   }
  },
  {
   "cell_type": "code",
   "execution_count": 101,
   "outputs": [
    {
     "data": {
      "text/plain": "0.9767819121971003"
     },
     "execution_count": 101,
     "metadata": {},
     "output_type": "execute_result"
    }
   ],
   "source": [
    "f1_score(y_test,prediction)"
   ],
   "metadata": {
    "collapsed": false,
    "pycharm": {
     "name": "#%%\n"
    }
   }
  },
  {
   "cell_type": "code",
   "execution_count": 103,
   "outputs": [
    {
     "data": {
      "text/plain": "array([[12032,   269],\n       [  418, 14451]], dtype=int64)"
     },
     "execution_count": 103,
     "metadata": {},
     "output_type": "execute_result"
    }
   ],
   "source": [
    "confusion_matrix(y_test, prediction)"
   ],
   "metadata": {
    "collapsed": false,
    "pycharm": {
     "name": "#%%\n"
    }
   }
  },
  {
   "cell_type": "code",
   "execution_count": null,
   "outputs": [],
   "source": [],
   "metadata": {
    "collapsed": false,
    "pycharm": {
     "name": "#%%\n"
    }
   }
  }
 ],
 "metadata": {
  "kernelspec": {
   "display_name": "Python 3",
   "language": "python",
   "name": "python3"
  },
  "language_info": {
   "codemirror_mode": {
    "name": "ipython",
    "version": 2
   },
   "file_extension": ".py",
   "mimetype": "text/x-python",
   "name": "python",
   "nbconvert_exporter": "python",
   "pygments_lexer": "ipython2",
   "version": "2.7.6"
  }
 },
 "nbformat": 4,
 "nbformat_minor": 0
}